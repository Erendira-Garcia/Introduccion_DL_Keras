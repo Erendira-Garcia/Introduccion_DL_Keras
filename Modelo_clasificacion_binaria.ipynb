{
  "nbformat": 4,
  "nbformat_minor": 0,
  "metadata": {
    "colab": {
      "provenance": [],
      "authorship_tag": "ABX9TyNDxXkJMq0R3dAXI9/sK8My",
      "include_colab_link": true
    },
    "kernelspec": {
      "name": "python3",
      "display_name": "Python 3"
    },
    "language_info": {
      "name": "python"
    }
  },
  "cells": [
    {
      "cell_type": "markdown",
      "metadata": {
        "id": "view-in-github",
        "colab_type": "text"
      },
      "source": [
        "<a href=\"https://colab.research.google.com/github/Erendira-Garcia/Introduccion_DL_Keras/blob/master/Modelo_clasificacion_binaria.ipynb\" target=\"_parent\"><img src=\"https://colab.research.google.com/assets/colab-badge.svg\" alt=\"Open In Colab\"/></a>"
      ]
    },
    {
      "cell_type": "markdown",
      "source": [
        "# Ejemplo 1"
      ],
      "metadata": {
        "id": "HjjRkIAzHcgg"
      }
    },
    {
      "cell_type": "code",
      "execution_count": null,
      "metadata": {
        "id": "YXDmDiD7_6Er"
      },
      "outputs": [],
      "source": [
        "import seaborn as sns\n",
        "\n",
        "# Plot a pairplot\n",
        "sns.pairplot(circles, hue = 'target')"
      ]
    },
    {
      "cell_type": "markdown",
      "source": [
        "# Ejemplo 2"
      ],
      "metadata": {
        "id": "30RCPP3gHgqK"
      }
    },
    {
      "cell_type": "markdown",
      "source": [],
      "metadata": {
        "id": "z9qHvLK6EqsA"
      }
    },
    {
      "cell_type": "markdown",
      "source": [
        "## Creación del modelo"
      ],
      "metadata": {
        "id": "S4yEXWIpHmqf"
      }
    },
    {
      "cell_type": "code",
      "source": [
        "from tensorflow.keras.models import Sequential\n",
        "from tensorflow.keras.layers import Dense\n",
        "\n",
        "# Instancia de un modelo secuencial\n",
        "model = Sequential()\n",
        "\n",
        "# Añadimos la capa de entrada con 2 neuronas y una capa oculta de 4 neuronas y función de activación tanh\n",
        "model.add(Dense(4, input_shape = (2,), activation = 'tanh'))\n",
        "\n",
        "# Añadimos la capa de salida con la función de activación sigmoidea\n",
        "model.add(Dense(1, activation = 'sigmoid'))"
      ],
      "metadata": {
        "id": "77u1K5kHE5GX"
      },
      "execution_count": null,
      "outputs": []
    },
    {
      "cell_type": "markdown",
      "source": [
        "## Compilación, entrenamiento y predicción"
      ],
      "metadata": {
        "id": "H-OupUp1HpaP"
      }
    },
    {
      "cell_type": "code",
      "source": [
        "# Compila modelo\n",
        "model.compile(optimizer = 'sgd', loss = 'binary_crossentropy') # Optimizador: descenso de gradiente estocástico, función de pérdida: entropía cruzada binaria\n",
        "\n",
        "# NOTA: Usamos la entropía cruzada binaria cuando la función de activación de la neurona de salida es la sigmoidea\n",
        "\n",
        "# Entrenamiento del modelo\n",
        "model.train(coordinates, labels, epochs = 20)"
      ],
      "metadata": {
        "id": "9PW-1E84HlYq"
      },
      "execution_count": null,
      "outputs": []
    },
    {
      "cell_type": "markdown",
      "source": [
        "# Ejercicio: Explorando billetes"
      ],
      "metadata": {
        "id": "kwc0nRG-dIQc"
      }
    },
    {
      "cell_type": "markdown",
      "source": [
        "## Explorando y visualizando la data (banknotes)"
      ],
      "metadata": {
        "id": "8_MicvF-hd62"
      }
    },
    {
      "cell_type": "code",
      "source": [
        "# Import seaborn\n",
        "import seaborn as sns\n",
        "\n",
        "# Use pairplot and set the hue to be our class column\n",
        "sns.pairplot(banknotes, hue='class') # class es la variable categórica que representa grupos, banknotes es la data\n",
        "\n",
        "# Show the plot\n",
        "plt.show()\n",
        "\n",
        "# Describe the data\n",
        "print('Dataset stats: \\n', banknotes.describe())\n",
        "\n",
        "# Count the number of observations per class\n",
        "print('Observations per class: \\n', banknotes['class'].value_counts())\n",
        "\n",
        "# NOTA: Si el conjunto de datos con el que estamos trabajando contiene una variable categórica que representa grupos \n",
        "# podemos pasarle el argumento hue, de modo que las representaciones gráficas se crearán y colorearán en base a esos grupos."
      ],
      "metadata": {
        "id": "Zl_l1UysdHb7"
      },
      "execution_count": null,
      "outputs": []
    },
    {
      "cell_type": "markdown",
      "source": [
        "## Creación del modelo"
      ],
      "metadata": {
        "id": "oEl3bMR2hazJ"
      }
    },
    {
      "cell_type": "code",
      "source": [
        "# Import the sequential model and dense layer\n",
        "from tensorflow.keras.models import Sequential\n",
        "from tensorflow.keras.layers import Dense\n",
        "\n",
        "# Create a sequential model\n",
        "model = Sequential()\n",
        "\n",
        "# Add a dense layer \n",
        "model.add(Dense(1, input_shape=(4,), activation='sigmoid'))\n",
        "\n",
        "# Compile your model\n",
        "model.compile(loss='binary_crossentropy', optimizer='sgd', metrics=['accuracy'])\n",
        "\n",
        "# Display a summary of your model\n",
        "model.summary()"
      ],
      "metadata": {
        "colab": {
          "base_uri": "https://localhost:8080/"
        },
        "id": "oaHMg-XQgIUx",
        "outputId": "409cc1d7-748a-4829-a4d0-51c5ec9c0df8"
      },
      "execution_count": null,
      "outputs": [
        {
          "output_type": "stream",
          "name": "stdout",
          "text": [
            "Model: \"sequential\"\n",
            "_________________________________________________________________\n",
            " Layer (type)                Output Shape              Param #   \n",
            "=================================================================\n",
            " dense (Dense)               (None, 1)                 5         \n",
            "                                                                 \n",
            "=================================================================\n",
            "Total params: 5\n",
            "Trainable params: 5\n",
            "Non-trainable params: 0\n",
            "_________________________________________________________________\n"
          ]
        }
      ]
    },
    {
      "cell_type": "markdown",
      "source": [
        "## Entrenamiento y evaluación del modelo"
      ],
      "metadata": {
        "id": "E531gnL6kgeF"
      }
    },
    {
      "cell_type": "code",
      "source": [
        "# Train your model for 20 epochs\n",
        "model.fit(X_train, y_train, epochs = 20)\n",
        "\n",
        "# Evaluate your model accuracy on the test set\n",
        "accuracy = model.evaluate(X_test, y_test)[1]\n",
        "\n",
        "# Print accuracy\n",
        "print('Accuracy:', accuracy)  # Precisión"
      ],
      "metadata": {
        "id": "6QkTPZXrkeGl"
      },
      "execution_count": null,
      "outputs": []
    }
  ]
}