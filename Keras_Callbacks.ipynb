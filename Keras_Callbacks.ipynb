{
  "nbformat": 4,
  "nbformat_minor": 0,
  "metadata": {
    "colab": {
      "provenance": [],
      "authorship_tag": "ABX9TyO8gKjsRgqHoxO9hRFtkWNg",
      "include_colab_link": true
    },
    "kernelspec": {
      "name": "python3",
      "display_name": "Python 3"
    },
    "language_info": {
      "name": "python"
    }
  },
  "cells": [
    {
      "cell_type": "markdown",
      "metadata": {
        "id": "view-in-github",
        "colab_type": "text"
      },
      "source": [
        "<a href=\"https://colab.research.google.com/github/Erendira-Garcia/Introduccion_DL_Keras/blob/master/Keras_Callbacks.ipynb\" target=\"_parent\"><img src=\"https://colab.research.google.com/assets/colab-badge.svg\" alt=\"Open In Colab\"/></a>"
      ]
    },
    {
      "cell_type": "markdown",
      "source": [
        "## El callback history"
      ],
      "metadata": {
        "id": "bd3Tdr-8Ja5X"
      }
    },
    {
      "cell_type": "code",
      "execution_count": null,
      "metadata": {
        "id": "CNMBdzCzFbob"
      },
      "outputs": [],
      "source": [
        "# Train your model and save its history\n",
        "h_callback = model.fit(X_train, y_train, epochs = 25,\n",
        "               validation_data=(X_test, y_test)) # En validation se puede dejar un porcentaje de los datos para prueba validation_data = 0.2\n",
        "\n",
        "# Plot train vs test loss during training\n",
        "plot_loss(h_callback.history['loss'], h_callback.history['val_loss'])\n",
        "\n",
        "# Plot train vs test accuracy during training\n",
        "plot_accuracy(h_callback.history['accuracy'], h_callback.history['val_accuracy'])\n",
        "\n",
        "# NOTA: history es un diccionario de python que guarda las métricas del entrenamiento del modelo"
      ]
    },
    {
      "cell_type": "markdown",
      "source": [
        "## El callback early stopping"
      ],
      "metadata": {
        "id": "kgzxWiFgJgUu"
      }
    },
    {
      "cell_type": "markdown",
      "source": [
        "Early stopping detiene el entrenamiento cuando ya no mejora. Puede monitorear métricas de validación, pérdida de validación, etc."
      ],
      "metadata": {
        "id": "B6mtW53_UqDv"
      }
    },
    {
      "cell_type": "code",
      "source": [
        "# Import the early stopping callback\n",
        "from tensorflow.keras.callbacks import EarlyStopping # Se importa EarlyStopping desde tensorflow\n",
        "\n",
        "# Define a callback to monitor val_accuracy\n",
        "monitor_val_acc = EarlyStopping(monitor='val_accuracy',  # Se crea una instancia de EarlyStopping con la métrica a monitorear\n",
        "                       patience=5) # número de épocas que puede esperar antes de detener el entrenamiento\n",
        "\n",
        "# Train your model using the early stopping callback\n",
        "model.fit(X_train, y_train, \n",
        "           epochs=1000, validation_data=(X_test, y_test),\n",
        "           callbacks= [monitor_val_acc]) # Se pasa como parámetro"
      ],
      "metadata": {
        "id": "5GEVlsAIJCTN"
      },
      "execution_count": null,
      "outputs": []
    },
    {
      "cell_type": "markdown",
      "source": [
        "## Combinación de callbacks"
      ],
      "metadata": {
        "id": "oibKiDf7JMxS"
      }
    },
    {
      "cell_type": "code",
      "source": [
        "# Import the EarlyStopping and ModelCheckpoint callbacks\n",
        "from tensorflow.keras.callbacks import EarlyStopping, ModelCheckpoint # Permite guardar el modelo mientras se entrena\n",
        "\n",
        "# Early stop on validation accuracy\n",
        "monitor_val_acc = EarlyStopping(monitor = 'val_accuracy', patience = 3)\n",
        "\n",
        "# Save the best model as best_banknote_model.hdf5\n",
        "model_checkpoint = ModelCheckpoint('best_banknote_model.hdf5', save_best_only = True)\n",
        "\n",
        "# Fit your model for a stupid amount of epochs\n",
        "h_callback = model.fit(X_train, y_train,\n",
        "                    epochs = 1000000000000,\n",
        "                    callbacks = [monitor_val_acc, model_checkpoint],\n",
        "                    validation_data = (X_test, y_test))"
      ],
      "metadata": {
        "id": "-jso-QxfJGl-"
      },
      "execution_count": null,
      "outputs": []
    },
    {
      "cell_type": "markdown",
      "source": [
        "## History plots"
      ],
      "metadata": {
        "id": "7MeeaLESSfAf"
      }
    },
    {
      "cell_type": "code",
      "source": [
        "# Plot train vs test accuracy per epoch\n",
        "plt.figure()\n",
        "\n",
        "# Use the history metrics\n",
        "plt.plot(history.history['accuracy'])\n",
        "plt.plot(history.history['val_accuracy'])\n",
        "\n",
        "# Make it pretty\n",
        "plt.title('Model accuracy')\n",
        "plt.ylabel('Accuracy')\n",
        "plt.xlabel('Epoch')\n",
        "plt.legend(['Train', 'Test'])\n",
        "plt.show()"
      ],
      "metadata": {
        "id": "123hyc8sSdsV"
      },
      "execution_count": null,
      "outputs": []
    }
  ]
}