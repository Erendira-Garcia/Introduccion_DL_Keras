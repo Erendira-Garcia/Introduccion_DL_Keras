{
  "nbformat": 4,
  "nbformat_minor": 0,
  "metadata": {
    "colab": {
      "provenance": [],
      "authorship_tag": "ABX9TyOcuUSvegMdEpt+gRzRL4du",
      "include_colab_link": true
    },
    "kernelspec": {
      "name": "python3",
      "display_name": "Python 3"
    },
    "language_info": {
      "name": "python"
    }
  },
  "cells": [
    {
      "cell_type": "markdown",
      "metadata": {
        "id": "view-in-github",
        "colab_type": "text"
      },
      "source": [
        "<a href=\"https://colab.research.google.com/github/Erendira-Garcia/Introduccion_DL_Keras/blob/master/Construccion_red_neuronal.ipynb\" target=\"_parent\"><img src=\"https://colab.research.google.com/assets/colab-badge.svg\" alt=\"Open In Colab\"/></a>"
      ]
    },
    {
      "cell_type": "markdown",
      "source": [
        "# PASO 1: Crear el modelo"
      ],
      "metadata": {
        "id": "zGrdaqR9zRe-"
      }
    },
    {
      "cell_type": "code",
      "execution_count": null,
      "metadata": {
        "id": "G-WuDMvBUTnq"
      },
      "outputs": [],
      "source": [
        "from tensorflow.keras.models import Sequential\n",
        "from tensorflow.keras.layers import Dense\n"
      ]
    },
    {
      "cell_type": "code",
      "source": [
        "# Creamos un nuevo modelo secuencial\n",
        "model = Sequential()\n",
        "\n",
        "# Agregamos una capa de entrada y una capa densa con 2 neuronas\n",
        "model.add(Dense(2, input_shape = (3, ), activation = \"relu\")) #(neuronas, entrada, activación)\n",
        "\n",
        "# Añadimos una capa final con una neurona\n",
        "model.add(Dense(1))"
      ],
      "metadata": {
        "id": "OhiD0WqKinEY"
      },
      "execution_count": null,
      "outputs": []
    },
    {
      "cell_type": "code",
      "source": [
        "model.summary()"
      ],
      "metadata": {
        "colab": {
          "base_uri": "https://localhost:8080/"
        },
        "id": "93B2Uv8EkPt5",
        "outputId": "f40e9823-c3e7-4af5-8684-c570cbb6fe71"
      },
      "execution_count": null,
      "outputs": [
        {
          "output_type": "stream",
          "name": "stdout",
          "text": [
            "Model: \"sequential\"\n",
            "_________________________________________________________________\n",
            " Layer (type)                Output Shape              Param #   \n",
            "=================================================================\n",
            " dense (Dense)               (None, 2)                 8         \n",
            "                                                                 \n",
            " dense_1 (Dense)             (None, 1)                 3         \n",
            "                                                                 \n",
            "=================================================================\n",
            "Total params: 11\n",
            "Trainable params: 11\n",
            "Non-trainable params: 0\n",
            "_________________________________________________________________\n"
          ]
        }
      ]
    },
    {
      "cell_type": "code",
      "source": [
        "# Import the Sequential model and Dense layer\n",
        "from tensorflow.keras.models import Sequential\n",
        "from tensorflow.keras.layers import Dense\n",
        "\n",
        "# Create a Sequential model\n",
        "model2 = Sequential()\n",
        "\n",
        "# Add an input layer and a hidden layer with 10 neurons\n",
        "model2.add(Dense(10, input_shape=(2,), activation=\"relu\"))\n",
        "\n",
        "# Add a 1-neuron output layer\n",
        "model2.add(Dense(1))\n",
        "\n",
        "# Summarise your model\n",
        "model2.summary()"
      ],
      "metadata": {
        "colab": {
          "base_uri": "https://localhost:8080/"
        },
        "id": "O3Cnp_TjzCx2",
        "outputId": "11b8da40-2d32-40fe-b311-a91dcf103cae"
      },
      "execution_count": null,
      "outputs": [
        {
          "output_type": "stream",
          "name": "stdout",
          "text": [
            "Model: \"sequential_1\"\n",
            "_________________________________________________________________\n",
            " Layer (type)                Output Shape              Param #   \n",
            "=================================================================\n",
            " dense_2 (Dense)             (None, 10)                30        \n",
            "                                                                 \n",
            " dense_3 (Dense)             (None, 1)                 11        \n",
            "                                                                 \n",
            "=================================================================\n",
            "Total params: 41\n",
            "Trainable params: 41\n",
            "Non-trainable params: 0\n",
            "_________________________________________________________________\n"
          ]
        }
      ]
    },
    {
      "cell_type": "code",
      "source": [
        "from tensorflow.keras.models import Sequential\n",
        "from tensorflow.keras.layers import Dense\n",
        "\n",
        "# Instantiate a Sequential model\n",
        "model3 = Sequential()\n",
        "\n",
        "# Build the input and hidden layer\n",
        "model3.add(Dense(3, input_shape = (2,), activation = \"relu\"))\n",
        "\n",
        "# Add the ouput layer\n",
        "model3.add(Dense(1))"
      ],
      "metadata": {
        "id": "a_PRnhUDy6C3"
      },
      "execution_count": null,
      "outputs": []
    },
    {
      "cell_type": "markdown",
      "source": [
        "# Paso 2: Compilar el modelo antes de entrenarlo"
      ],
      "metadata": {
        "id": "6QU20yNUznY8"
      }
    },
    {
      "cell_type": "code",
      "source": [
        "model.compile(optimizer = \"adam\", loss = \"mse\")"
      ],
      "metadata": {
        "id": "DxkqW5IFAFhE"
      },
      "execution_count": null,
      "outputs": []
    },
    {
      "cell_type": "markdown",
      "source": [
        "# Paso 3: Entrenamiento"
      ],
      "metadata": {
        "id": "iRZUnuErATJW"
      }
    },
    {
      "cell_type": "code",
      "source": [
        "model.fit(X_train, y_train, epochs = 5)"
      ],
      "metadata": {
        "id": "AeqArHNLASGc"
      },
      "execution_count": null,
      "outputs": []
    },
    {
      "cell_type": "markdown",
      "source": [
        "# Paso 4: Predicción"
      ],
      "metadata": {
        "id": "7gVr1d5hAdq7"
      }
    },
    {
      "cell_type": "code",
      "source": [
        "preds = model.predict(X_test)"
      ],
      "metadata": {
        "id": "uWSHGh2dAQYz"
      },
      "execution_count": null,
      "outputs": []
    },
    {
      "cell_type": "markdown",
      "source": [
        "# Paso 5"
      ],
      "metadata": {
        "id": "ZwKQUKCbAsx6"
      }
    },
    {
      "cell_type": "code",
      "source": [
        "model.evaluate(X_test, y_test)"
      ],
      "metadata": {
        "id": "-boi1gICAoCS"
      },
      "execution_count": null,
      "outputs": []
    },
    {
      "cell_type": "markdown",
      "source": [
        "# EJEMPLO"
      ],
      "metadata": {
        "id": "yPp53MhGJIBT"
      }
    },
    {
      "cell_type": "code",
      "source": [
        "# Instantiate a Sequential model\n",
        "model_10 = Sequential()\n",
        "\n",
        "# Add a Dense layer with 50 neurons and an input of 1 neuron\n",
        "model_10.add(Dense(50, input_shape=(1,), activation='relu'))\n",
        "\n",
        "# Add two Dense layers with 50 neurons and relu activation\n",
        "model_10.add(Dense(50, activation = 'relu'))\n",
        "model_10.add(Dense(50, activation = 'relu'))\n",
        "\n",
        "# End your model with a Dense layer and no activation\n",
        "model_10.add(Dense(1))"
      ],
      "metadata": {
        "id": "xMWZfQ5bJNmy"
      },
      "execution_count": null,
      "outputs": []
    },
    {
      "cell_type": "code",
      "source": [
        "# Compile your model\n",
        "model_10.compile(optimizer = 'adam', loss = 'mse')\n",
        "\n",
        "print(\"Training started..., this can take a while:\")\n",
        "\n",
        "# Fit your model on your data for 30 epochs\n",
        "model_10.fit(time_steps,y_positions, epochs = 30)\n",
        "\n",
        "# Evaluate your model \n",
        "print(\"Final loss value:\",model_10.evaluate(time_steps, y_positions))"
      ],
      "metadata": {
        "id": "fdpJgaqKJNhB"
      },
      "execution_count": null,
      "outputs": []
    },
    {
      "cell_type": "code",
      "source": [
        "# Predict the eighty minute orbit\n",
        "eighty_min_orbit = model_10.predict(np.arange(-10, 11))\n",
        "\n",
        "# Plot the eighty minute orbit \n",
        "plot_orbit(eighty_min_orbit)"
      ],
      "metadata": {
        "id": "HMlMImXoJNdy"
      },
      "execution_count": null,
      "outputs": []
    },
    {
      "cell_type": "code",
      "source": [
        "# Predict the eighty minute orbit\n",
        "eighty_min_orbit = model.predict(np.arange(-40, 41))\n",
        "\n",
        "# Plot the eighty minute orbit \n",
        "plot_orbit(eighty_min_orbit)"
      ],
      "metadata": {
        "id": "4gcgBH90JNYD"
      },
      "execution_count": null,
      "outputs": []
    },
    {
      "cell_type": "code",
      "source": [
        "import numpy as np\n",
        "\n",
        "np.arange(-40, 41)"
      ],
      "metadata": {
        "colab": {
          "base_uri": "https://localhost:8080/"
        },
        "id": "CBXNxH8WPMlR",
        "outputId": "9acefe1a-9e1c-4d4a-eb16-9df150128ad6"
      },
      "execution_count": null,
      "outputs": [
        {
          "output_type": "execute_result",
          "data": {
            "text/plain": [
              "array([-40, -39, -38, -37, -36, -35, -34, -33, -32, -31, -30, -29, -28,\n",
              "       -27, -26, -25, -24, -23, -22, -21, -20, -19, -18, -17, -16, -15,\n",
              "       -14, -13, -12, -11, -10,  -9,  -8,  -7,  -6,  -5,  -4,  -3,  -2,\n",
              "        -1,   0,   1,   2,   3,   4,   5,   6,   7,   8,   9,  10,  11,\n",
              "        12,  13,  14,  15,  16,  17,  18,  19,  20,  21,  22,  23,  24,\n",
              "        25,  26,  27,  28,  29,  30,  31,  32,  33,  34,  35,  36,  37,\n",
              "        38,  39,  40])"
            ]
          },
          "metadata": {},
          "execution_count": 8
        }
      ]
    }
  ]
}